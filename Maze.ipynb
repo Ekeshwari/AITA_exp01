{
  "cells": [
    {
      "cell_type": "code",
      "source": [
        "import matplotlib.pyplot as plt\n",
        "import numpy as np\n",
        "\n",
        "# Define the maze as a 2D list (1: Wall, 0: Path)\n",
        "maze = [\n",
        "    [1, 1, 1, 1, 1, 1, 1],\n",
        "    [1, 0, 0, 0, 1, 0, 1],\n",
        "    [1, 0, 1, 0, 1, 0, 1],\n",
        "    [1, 0, 1, 0, 0, 0, 1],\n",
        "    [1, 0, 1, 1, 1, 0, 1],\n",
        "    [1, 0, 0, 0, 1, 0, 1],\n",
        "    [1, 1, 1, 1, 1, 1, 1]\n",
        "]\n",
        "\n",
        "# Start and End points\n",
        "start = (1, 1)  # (row, col)\n",
        "end = (5, 5)\n",
        "\n",
        "# Initialize visited array\n",
        "visited = [[False for _ in range(len(maze[0]))] for _ in range(len(maze))]\n",
        "\n",
        "# Movement directions (down, up, right, left)\n",
        "directions = [(1, 0), (-1, 0), (0, 1), (0, -1)]\n",
        "\n",
        "# Function to visualize the maze and DFS path\n",
        "def visualize_maze(maze, path=[]):\n",
        "    maze_visual = np.array(maze)\n",
        "    for r, c in path:\n",
        "        maze_visual[r][c] = 0.5  # Mark the path with 0.5 for visualization\n",
        "\n",
        "    plt.imshow(maze_visual, cmap='gray')\n",
        "    plt.show()\n",
        "\n",
        "# DFS function to solve the maze\n",
        "def dfs(maze, start, end, path):\n",
        "    x, y = start\n",
        "    # If we reached the end\n",
        "    if start == end:\n",
        "        path.append(end)\n",
        "        return True\n",
        "\n",
        "    # Mark the current cell as visited\n",
        "    visited[x][y] = True\n",
        "    path.append((x, y))\n",
        "\n",
        "    # Explore neighbors\n",
        "    for direction in directions:\n",
        "        next_x, next_y = x + direction[0], y + direction[1]\n",
        "        if 0 <= next_x < len(maze) and 0 <= next_y < len(maze[0]):  # Check boundaries\n",
        "            if not visited[next_x][next_y] and maze[next_x][next_y] == 0:\n",
        "                if dfs(maze, (next_x, next_y), end, path):\n",
        "                    return True\n",
        "\n",
        "    # If no path found, backtrack\n",
        "    path.pop()\n",
        "    return False\n",
        "\n",
        "# Solve the maze using DFS\n",
        "path = []\n",
        "if dfs(maze, start, end, path):\n",
        "    print(\"Path found:\")\n",
        "    print(path)\n",
        "    visualize_maze(maze, path)\n",
        "else:\n",
        "    print(\"No path found.\")\n"
      ],
      "metadata": {
        "id": "DOJHgH2aWecH",
        "outputId": "dd33ecf2-c120-4296-e0ce-df5d0f27cfed",
        "colab": {
          "base_uri": "https://localhost:8080/",
          "height": 465
        }
      },
      "execution_count": 1,
      "outputs": [
        {
          "output_type": "stream",
          "name": "stdout",
          "text": [
            "Path found:\n",
            "[(1, 1), (1, 2), (1, 3), (2, 3), (3, 3), (3, 4), (3, 5), (4, 5), (5, 5)]\n"
          ]
        },
        {
          "output_type": "display_data",
          "data": {
            "text/plain": [
              "<Figure size 640x480 with 1 Axes>"
            ],
            "image/png": "[encoded data removed]"
          },
          "metadata": {}
        }
      ]
    }
  ],
  "metadata": {
    "colab": {
      "name": "Welcome To Colab",
      "toc_visible": true,
      "provenance": []
    },
    "kernelspec": {
      "display_name": "Python 3",
      "name": "python3"
    }
  },
  "nbformat": 4,
  "nbformat_minor": 0
}